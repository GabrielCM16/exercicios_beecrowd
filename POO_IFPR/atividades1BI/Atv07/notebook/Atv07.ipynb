{
 "cells": [
  {
   "cell_type": "markdown",
   "id": "cab6bad2-ca6d-416a-b20b-f6e50d675883",
   "metadata": {},
   "source": [
    "## Atv07"
   ]
  },
  {
   "cell_type": "markdown",
   "id": "b2b936ce-7e38-48f4-a9b1-55dc1a1f8a98",
   "metadata": {},
   "source": [
    "Apresente o trecho do código que armazena as notas em um array de cinco elementos."
   ]
  },
  {
   "cell_type": "code",
   "execution_count": null,
   "metadata": {},
   "outputs": [],
   "source": [
    "\n",
    "String aux; // str axuliar para o JOptionPane\n",
    "double vetor[] = new double[5]; //declaração e alocação do vetor\n",
    "\n",
    "for (int i = 0; i < 5; i++){ //iniciando um for para repetir 5 vezes a entrada da nota\n",
    "\n",
    "    //entrada dos dados com a classe JOptionPane\n",
    "    aux = JOptionPane.showInputDialog(\"Entre com a nota da primeira prova\");\n",
    "    //conversao dos dados para float e armazenando o dado no vetor\n",
    "    vetor[i] = Float.parseFloat(aux); \n",
    "\n",
    "} //fim do for"
   ]
  },
  {
   "cell_type": "markdown",
   "id": "e65ee387-a7af-49ac-aea4-c3371aa7ebe1",
   "metadata": {},
   "source": [
    "Apresente a saída em tela das cinco notas em ordem decrescente (da maior para a menor) e a média aritmética das notas."
   ]
  },
  {
   "cell_type": "code",
   "execution_count": null,
   "id": "b969791d-8371-4e76-88d6-8cfe81db87a2",
   "metadata": {},
   "outputs": [],
   "source": [
    "// organizando o vetor do maior para o menor (decrescente)\n",
    "\n",
    "boolean repetir; //variavel boleana para se repetir o while\n",
    "do {\n",
    "    repetir = false; //atribuindo false para a variavel repetir\n",
    "     \n",
    "    for (int i = 1; i < vetor.length; i++) {\n",
    "        //se vetor[anterior] for maior que vetor[na posição i]\n",
    "        if (vetor[i - 1] > vetor[i]) {\n",
    "            //se verdadeiro troca a ordem dos dois valores com ajuda da variavel temp\n",
    "            double temp = vetor[i - 1];\n",
    "            vetor[i - 1] = vetor[i];\n",
    "            vetor[i] = temp;\n",
    "            repetir = true; //repetir recebe true pois deve se comparar novamente \n",
    "        }\n",
    "    }\n",
    "} while (repetir);\n",
    "\n",
    "double media_aritimetica; //alocando a variavel para ser a media das notas\n",
    "//alocando e inicializando a variavel soma_notas\n",
    "double soma_notas = 0; // antes de criar a media vamos somar todas as notas do vetor\n",
    "\n",
    "String notas_ordenadas = \"\"; // string para ir adicionando as notas ja ordenadas\n",
    "\n",
    "//for para somar todas as notas do vetor e colocar na variavel em String as notas ja ordenadas \n",
    "for (int i = 0; i < vetor.length; i++){ \n",
    "\n",
    "    notas_ordenadas +=  vetor[i] + \", \"; // adicionando a nota na variavel notas_ordenadas\n",
    "    soma_notas += vetor[i]; // adicionando a nota da posinçao i do vetor\n",
    "\n",
    "} //fim do for\n",
    "\n",
    "media_aritimetica = soma_notas / vetor.length; //fazendo a divisao pelo numero de notas (tamanho do vetor)\n",
    "\n",
    "//mostrando na tela oque se pede\n",
    "JOptionPane.showMessageDialog(null, \"Notas organizadas = \" + notas_ordenadas + \" \\n \" + \" Media das notas = \" + media_aritimetica);\n",
    "\n",
    "\n",
    "\n",
    "\n"
   ]
  }
 ],
 "metadata": {
  "kernelspec": {
   "display_name": "Python 3",
   "language": "python",
   "name": "python3"
  },
  "language_info": {
   "codemirror_mode": "java",
   "file_extension": ".jshell",
   "mimetype": "text/x-java-source",
   "name": "python",
   "pygments_lexer": "java",
   "version": "3.11.1"
  }
 },
 "nbformat": 4,
 "nbformat_minor": 5
}
