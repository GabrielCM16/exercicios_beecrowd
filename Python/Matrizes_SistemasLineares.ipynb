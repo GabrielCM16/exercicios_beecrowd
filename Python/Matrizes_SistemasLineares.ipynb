{
  "nbformat": 4,
  "nbformat_minor": 0,
  "metadata": {
    "colab": {
      "provenance": []
    },
    "kernelspec": {
      "name": "python3",
      "display_name": "Python 3"
    },
    "language_info": {
      "name": "python"
    }
  },
  "cells": [
    {
      "cell_type": "markdown",
      "source": [
        "Autores: Gabriel Costa de Moraes\n",
        "e Pedro Miotto Mujica"
      ],
      "metadata": {
        "id": "-0lyPTYk-TyM"
      }
    },
    {
      "cell_type": "markdown",
      "metadata": {
        "id": "c6zmfCel8z6i"
      },
      "source": [
        "# **Atividade avaliativa - Matrizes em Python**\n",
        "\n",
        "Implementar os problemas de matrizes utilizando linguagem de programação Python e a biblioteca Numpy\n",
        "- **Observação**: Sempre que um comando resultar em erro, explique o motivo com base na\n",
        "teoria de matrizes. Para isso, insira comentários com sua explicação diretamente no\n",
        "código.\n",
        "\n",
        "Os códigos devem ser enviados no formato .txt ou:\n",
        "- caso utilize o Jupyter Notebook, enviar o arquivo .ipynb;\n",
        "- caso utilize o Google Colab, compartilhar o link (Recomendado).\n",
        "\n",
        "\n"
      ]
    },
    {
      "cell_type": "markdown",
      "source": [
        "### Considere as matrizes e resolva as situações propostas\n",
        "\n",
        "$$\n",
        "A=\n",
        "\\left(\\begin{array}{cc}\n",
        "3 & -2 & 5 & 1 & 6\\\\\n",
        "-6 & 4 & -4 & 1 & 3\\\\\n",
        "9 & -6 & 2 & 1 & 2\\\\\n",
        "6 & -4 & -6 & 5 & 1\\\\\n",
        "9 & 4 & 1 & 5 & 3\\\\\n",
        "\\end{array}\\right)\n",
        "B=\n",
        "\\left(\\begin{array}{cc}\n",
        "1 & 2 & 2 & 2 & 2\\\\\n",
        "3 & 1 & 2 & 2 & 2\\\\\n",
        "3 & 3 & 1 & 2 & 2\\\\\n",
        "3 & 3 & 3 & 1 & 2\\\\\n",
        "6 & 6 & 6 & 2 & 1\\\\\n",
        "\\end{array}\\right)\n",
        "C=\n",
        "\\left(\\begin{array}{cc}\n",
        "2 & -1 & 4\\\\\n",
        "3 & 2 & 1\\\\\n",
        "5 & 5 & 1\\\\\n",
        "1 & 0 & 0\\\\\n",
        "2 & 2 & 0\\\\\n",
        "\\end{array}\\right)\n",
        "$$"
      ],
      "metadata": {
        "id": "E8JRSoVF4sbJ"
      }
    },
    {
      "cell_type": "code",
      "execution_count": null,
      "metadata": {
        "id": "UJ9EvRAUBZfW"
      },
      "outputs": [],
      "source": [
        "#Importando bibliotecas\n",
        "import numpy as np #Biblioteca para matrizes e cálculos\n",
        "from sympy import * #Biblioteca para escrever equações"
      ]
    },
    {
      "cell_type": "code",
      "source": [
        "#Declarando matrizes\n",
        "a = np.matrix('3 -2 5 1 6; -6 4 -4 1 3; 9 -6 2 1 2; 6 -4 -6 5 1; 9 4 1 5 3')\n",
        "b = np.matrix('1 2 2 2 2; 3 1 2 2 2; 3 3 1 2 2;  3 3 3 1 2; 6 6 6 2 1')\n",
        "c = np.matrix('2 -1 4; 3 2 1; 5 5 1; 1 0 0; 2 2 0')\n",
        "#Imprimindo Matrizes\n",
        "a,b,c"
      ],
      "metadata": {
        "id": "HnQhTnpB5-4b",
        "colab": {
          "base_uri": "https://localhost:8080/"
        },
        "outputId": "e76ee960-9aa6-42de-e84d-3f6db78e873d"
      },
      "execution_count": null,
      "outputs": [
        {
          "output_type": "execute_result",
          "data": {
            "text/plain": [
              "(matrix([[ 3, -2,  5,  1,  6],\n",
              "         [-6,  4, -4,  1,  3],\n",
              "         [ 9, -6,  2,  1,  2],\n",
              "         [ 6, -4, -6,  5,  1],\n",
              "         [ 9,  4,  1,  5,  3]]),\n",
              " matrix([[1, 2, 2, 2, 2],\n",
              "         [3, 1, 2, 2, 2],\n",
              "         [3, 3, 1, 2, 2],\n",
              "         [3, 3, 3, 1, 2],\n",
              "         [6, 6, 6, 2, 1]]),\n",
              " matrix([[ 2, -1,  4],\n",
              "         [ 3,  2,  1],\n",
              "         [ 5,  5,  1],\n",
              "         [ 1,  0,  0],\n",
              "         [ 2,  2,  0]]))"
            ]
          },
          "metadata": {},
          "execution_count": 2
        }
      ]
    },
    {
      "cell_type": "markdown",
      "source": [
        "**a) Exibir dimensões das matrizes**"
      ],
      "metadata": {
        "id": "pofMXJN_-1ap"
      }
    },
    {
      "cell_type": "code",
      "source": [
        "#Imprimindo as dimensões\n",
        "#Output: Linha x Coluna\n",
        "print(f\"Dimensão da matriz A: {a.shape}\")\n",
        "print(f\"Dimensão da matriz B: {b.shape}\")\n",
        "print(f\"Dimensão da matriz C: {c.shape}\")"
      ],
      "metadata": {
        "colab": {
          "base_uri": "https://localhost:8080/"
        },
        "id": "NUOHTBdE6JiK",
        "outputId": "03ce9bcb-127f-483c-d1e6-b4e0a6b1a28b"
      },
      "execution_count": null,
      "outputs": [
        {
          "output_type": "stream",
          "name": "stdout",
          "text": [
            "Dimensão da matriz A: (5, 5)\n",
            "Dimensão da matriz B: (5, 5)\n",
            "Dimensão da matriz C: (5, 3)\n"
          ]
        }
      ]
    },
    {
      "cell_type": "markdown",
      "source": [
        "**b) Exiba o elemento 𝑎<sub>33</sub> (elemento da terceira linha e terceira coluna da matriz 𝐴) e 𝑏<sub>53</sub>\n",
        "(elemento da quinta linha e terceira coluna da matriz 𝐵**"
      ],
      "metadata": {
        "id": "PEx07UwAA5l8"
      }
    },
    {
      "cell_type": "code",
      "source": [
        "#A contagem dos elemntos de uma lista inicia em 0\n",
        "#Logo será necessário mostrar a matriz na linha (3-1) e coluna (3-1)\n",
        "print(f\"Elemento de A33: {a[2,2]}\")\n",
        "print(f\"Elemento de B53: {b[4,2]}\")"
      ],
      "metadata": {
        "colab": {
          "base_uri": "https://localhost:8080/"
        },
        "id": "9OaFXejXC58w",
        "outputId": "f4fc4539-df1e-4fef-a2a3-899e0efc64a9"
      },
      "execution_count": null,
      "outputs": [
        {
          "output_type": "stream",
          "name": "stdout",
          "text": [
            "Elemento de A33: 2\n",
            "Elemento de B53: 6\n"
          ]
        }
      ]
    },
    {
      "cell_type": "markdown",
      "source": [
        "**c) Exibir os elementos da quinta linha de 𝐴**"
      ],
      "metadata": {
        "id": "TFP6WizZFFWy"
      }
    },
    {
      "cell_type": "code",
      "source": [
        "print(f\"Elementos da quinta linha da matriz A: \\n\")\n",
        "Matrix(a[4])"
      ],
      "metadata": {
        "colab": {
          "base_uri": "https://localhost:8080/",
          "height": 73
        },
        "id": "5f6VuUPvFBnB",
        "outputId": "d6ffa530-f19d-4385-a00c-c4b1a845d7c4"
      },
      "execution_count": null,
      "outputs": [
        {
          "output_type": "stream",
          "name": "stdout",
          "text": [
            "Elementos da quinta linha da matriz A: \n",
            "\n"
          ]
        },
        {
          "output_type": "execute_result",
          "data": {
            "text/plain": [
              "Matrix([[9, 4, 1, 5, 3]])"
            ],
            "text/latex": "$\\displaystyle \\left[\\begin{matrix}9 & 4 & 1 & 5 & 3\\end{matrix}\\right]$"
          },
          "metadata": {},
          "execution_count": 22
        }
      ]
    },
    {
      "cell_type": "markdown",
      "source": [
        "**d) Exibir os elementos da terceira coluna de 𝐴;**"
      ],
      "metadata": {
        "id": "8uV-8qewFlrx"
      }
    },
    {
      "cell_type": "code",
      "source": [
        "print(f\"Elementos da terceira coluna da matriz A: \\n\")\n",
        "#Usar : para indicar que será imprimido a coluna\n",
        "Matrix(a[:, 2])"
      ],
      "metadata": {
        "colab": {
          "base_uri": "https://localhost:8080/",
          "height": 153
        },
        "id": "BMvCpIq5FBVU",
        "outputId": "e95d644f-ebbe-473f-e307-9e2ea17a2773"
      },
      "execution_count": null,
      "outputs": [
        {
          "output_type": "stream",
          "name": "stdout",
          "text": [
            "Elementos da terceira coluna da matriz A: \n",
            "\n"
          ]
        },
        {
          "output_type": "execute_result",
          "data": {
            "text/plain": [
              "Matrix([\n",
              "[ 5],\n",
              "[-4],\n",
              "[ 2],\n",
              "[-6],\n",
              "[ 1]])"
            ],
            "text/latex": "$\\displaystyle \\left[\\begin{matrix}5\\\\-4\\\\2\\\\-6\\\\1\\end{matrix}\\right]$"
          },
          "metadata": {},
          "execution_count": 69
        }
      ]
    },
    {
      "cell_type": "markdown",
      "source": [
        "**e) Exibir o resultado da multiplicação da segunda coluna de 𝐴 com a quarta linha de 𝐵;**"
      ],
      "metadata": {
        "id": "Uom2IqhSFwZi"
      }
    },
    {
      "cell_type": "code",
      "source": [
        "#Armazena linhas e colunas nas variáveis\n",
        "colunaA = np.array([-2, 4, -6, -4, 4])\n",
        "linhaB = np.array([3, 3, 3, 1, 2])\n",
        "\n",
        "#Armazenar o resultado com metódo .dot() que retorna o produto\n",
        "produtoE = np.dot(colunaA,linhaB)\n",
        "\n",
        "#Imprimir o resultado na tela\n",
        "print(f\"Multiplicação entre linha e coluna resulta em: {produtoE}\")"
      ],
      "metadata": {
        "colab": {
          "base_uri": "https://localhost:8080/"
        },
        "id": "ljgU3_n1FjHV",
        "outputId": "ca46fc91-a32d-44aa-f00f-3134a8268ef7"
      },
      "execution_count": null,
      "outputs": [
        {
          "output_type": "stream",
          "name": "stdout",
          "text": [
            "Multiplicação entre linha e coluna resulta em: -8\n"
          ]
        }
      ]
    },
    {
      "cell_type": "markdown",
      "source": [
        "**f) Exibir a matriz transposta de 𝐶 e sua respectiva dimensão**"
      ],
      "metadata": {
        "id": "zpVtFpF4F3hg"
      }
    },
    {
      "cell_type": "code",
      "source": [
        "#Usar metódo Numpy para mostrar matriz transposta\n",
        "\n",
        "matriz_transposta = c.transpose()\n",
        "print(f\"Dimensão da matriz: {np.shape(matriz_transposta)}\")\n",
        "print('\\n')\n",
        "Matrix(matriz_transposta)"
      ],
      "metadata": {
        "colab": {
          "base_uri": "https://localhost:8080/",
          "height": 130
        },
        "id": "eHoiTls6FA7p",
        "outputId": "78485f78-d82f-4bcc-afeb-f8525d1ec795"
      },
      "execution_count": null,
      "outputs": [
        {
          "output_type": "stream",
          "name": "stdout",
          "text": [
            "Dimensão da matriz: (3, 5)\n",
            "\n",
            "\n"
          ]
        },
        {
          "output_type": "execute_result",
          "data": {
            "text/plain": [
              "Matrix([\n",
              "[ 2, 3, 5, 1, 2],\n",
              "[-1, 2, 5, 0, 2],\n",
              "[ 4, 1, 1, 0, 0]])"
            ],
            "text/latex": "$\\displaystyle \\left[\\begin{matrix}2 & 3 & 5 & 1 & 2\\\\-1 & 2 & 5 & 0 & 2\\\\4 & 1 & 1 & 0 & 0\\end{matrix}\\right]$"
          },
          "metadata": {},
          "execution_count": 29
        }
      ]
    },
    {
      "cell_type": "markdown",
      "source": [
        "**g) exibir o resultado de 𝐴 + 𝐵, 𝐴 − 𝐵 e 𝐶 + 𝐴**"
      ],
      "metadata": {
        "id": "kOq49kGQF8X6"
      }
    },
    {
      "cell_type": "code",
      "source": [
        "#Primeira operação\n",
        "op1 = a + b\n",
        "print(f\"Soma da A+B \\n\")\n",
        "Matrix(op1)"
      ],
      "metadata": {
        "colab": {
          "base_uri": "https://localhost:8080/",
          "height": 153
        },
        "id": "3BkegekcqJIp",
        "outputId": "449e2c9b-e08d-4ad2-bb4e-74eacc5b4da4"
      },
      "execution_count": null,
      "outputs": [
        {
          "output_type": "stream",
          "name": "stdout",
          "text": [
            "Soma da A+B \n",
            "\n"
          ]
        },
        {
          "output_type": "execute_result",
          "data": {
            "text/plain": [
              "Matrix([\n",
              "[ 4,  0,  7, 3, 8],\n",
              "[-3,  5, -2, 3, 5],\n",
              "[12, -3,  3, 3, 4],\n",
              "[ 9, -1, -3, 6, 3],\n",
              "[15, 10,  7, 7, 4]])"
            ],
            "text/latex": "$\\displaystyle \\left[\\begin{matrix}4 & 0 & 7 & 3 & 8\\\\-3 & 5 & -2 & 3 & 5\\\\12 & -3 & 3 & 3 & 4\\\\9 & -1 & -3 & 6 & 3\\\\15 & 10 & 7 & 7 & 4\\end{matrix}\\right]$"
          },
          "metadata": {},
          "execution_count": 66
        }
      ]
    },
    {
      "cell_type": "code",
      "source": [
        "#Segundo operação\n",
        "op2 = a - b\n",
        "print(f\"Subtração da A-B \\n\")\n",
        "Matrix(op2)"
      ],
      "metadata": {
        "colab": {
          "base_uri": "https://localhost:8080/",
          "height": 153
        },
        "id": "kMkdl4fwqI81",
        "outputId": "74ad9bd7-7556-4be1-99a0-f446a7820472"
      },
      "execution_count": null,
      "outputs": [
        {
          "output_type": "stream",
          "name": "stdout",
          "text": [
            "Subtração da A-B \n",
            "\n"
          ]
        },
        {
          "output_type": "execute_result",
          "data": {
            "text/plain": [
              "Matrix([\n",
              "[ 2, -4,  3, -1,  4],\n",
              "[-9,  3, -6, -1,  1],\n",
              "[ 6, -9,  1, -1,  0],\n",
              "[ 3, -7, -9,  4, -1],\n",
              "[ 3, -2, -5,  3,  2]])"
            ],
            "text/latex": "$\\displaystyle \\left[\\begin{matrix}2 & -4 & 3 & -1 & 4\\\\-9 & 3 & -6 & -1 & 1\\\\6 & -9 & 1 & -1 & 0\\\\3 & -7 & -9 & 4 & -1\\\\3 & -2 & -5 & 3 & 2\\end{matrix}\\right]$"
          },
          "metadata": {},
          "execution_count": 31
        }
      ]
    },
    {
      "cell_type": "code",
      "source": [
        "#Terceira operação\n",
        "op3 = c+a\n",
        "Matrix(op3)\n",
        "#Explicação do erro\n",
        "#A matriz não pode ser calculada devido as diferentes dimensões\n",
        "#Como A tem dimensão 5X3 e C tem dimensão 5X5 o cálculo não é possível"
      ],
      "metadata": {
        "id": "S73RBbyRFkdc",
        "colab": {
          "base_uri": "https://localhost:8080/",
          "height": 216
        },
        "outputId": "0aaca80f-7c6b-44a8-d8a6-e260a90cb6f7"
      },
      "execution_count": null,
      "outputs": [
        {
          "output_type": "error",
          "ename": "ValueError",
          "evalue": "operands could not be broadcast together with shapes (5,3) (5,5) ",
          "traceback": [
            "\u001b[0;31m---------------------------------------------------------------------------\u001b[0m",
            "\u001b[0;31mValueError\u001b[0m                                Traceback (most recent call last)",
            "\u001b[0;32m<ipython-input-48-9297be62466c>\u001b[0m in \u001b[0;36m<cell line: 2>\u001b[0;34m()\u001b[0m\n\u001b[1;32m      1\u001b[0m \u001b[0;31m#Terceira operação\u001b[0m\u001b[0;34m\u001b[0m\u001b[0;34m\u001b[0m\u001b[0m\n\u001b[0;32m----> 2\u001b[0;31m \u001b[0mop3\u001b[0m \u001b[0;34m=\u001b[0m \u001b[0mc\u001b[0m\u001b[0;34m+\u001b[0m\u001b[0ma\u001b[0m\u001b[0;34m\u001b[0m\u001b[0;34m\u001b[0m\u001b[0m\n\u001b[0m\u001b[1;32m      3\u001b[0m \u001b[0mMatrix\u001b[0m\u001b[0;34m(\u001b[0m\u001b[0mop3\u001b[0m\u001b[0;34m)\u001b[0m\u001b[0;34m\u001b[0m\u001b[0;34m\u001b[0m\u001b[0m\n\u001b[1;32m      4\u001b[0m \u001b[0;31m#Explicação do erro\u001b[0m\u001b[0;34m\u001b[0m\u001b[0;34m\u001b[0m\u001b[0m\n\u001b[1;32m      5\u001b[0m \u001b[0;31m#A matriz não pode ser calculada devido as diferentes dimensões\u001b[0m\u001b[0;34m\u001b[0m\u001b[0;34m\u001b[0m\u001b[0m\n",
            "\u001b[0;31mValueError\u001b[0m: operands could not be broadcast together with shapes (5,3) (5,5) "
          ]
        }
      ]
    },
    {
      "cell_type": "markdown",
      "source": [
        "**h) exibir o resultado de 𝐴 × 𝐵 e 𝐵 × 𝐴**"
      ],
      "metadata": {
        "id": "JP-6TiIEGA45"
      }
    },
    {
      "cell_type": "code",
      "source": [
        "produtoAB = np.dot(a,b)\n",
        "print(\"Multiplicação entre A e B \\n\")\n",
        "Matrix(produtoAB)"
      ],
      "metadata": {
        "colab": {
          "base_uri": "https://localhost:8080/",
          "height": 153
        },
        "id": "UACby_vFrCyI",
        "outputId": "b823a2d9-d0fa-45a2-89e6-a962d047baf9"
      },
      "execution_count": null,
      "outputs": [
        {
          "output_type": "stream",
          "name": "stdout",
          "text": [
            "Multiplicação entre A e B \n",
            "\n"
          ]
        },
        {
          "output_type": "execute_result",
          "data": {
            "text/plain": [
              "Matrix([\n",
              "[51, 58, 46, 25, 20],\n",
              "[15,  1, 13, -5, -7],\n",
              "[12, 33, 23, 15, 14],\n",
              "[-3, 11, 19, -1,  3],\n",
              "[57, 58, 60, 39, 41]])"
            ],
            "text/latex": "$\\displaystyle \\left[\\begin{matrix}51 & 58 & 46 & 25 & 20\\\\15 & 1 & 13 & -5 & -7\\\\12 & 33 & 23 & 15 & 14\\\\-3 & 11 & 19 & -1 & 3\\\\57 & 58 & 60 & 39 & 41\\end{matrix}\\right]$"
          },
          "metadata": {},
          "execution_count": 35
        }
      ]
    },
    {
      "cell_type": "code",
      "source": [
        "#Cálculo da matriz\n",
        "produtoBA = np.dot(b,a)\n",
        "print(\"Multiplicação entre B e A \\n\")\n",
        "\n",
        "Matrix(produtoBA)\n",
        "#Multiplicação de matrizes não é comutativa\n",
        "#Logo A * B != B* A"
      ],
      "metadata": {
        "colab": {
          "base_uri": "https://localhost:8080/",
          "height": 153
        },
        "id": "f1B99HwHrLor",
        "outputId": "565d6bea-7df5-4a15-c78f-0012be7559a3"
      },
      "execution_count": null,
      "outputs": [
        {
          "output_type": "stream",
          "name": "stdout",
          "text": [
            "Multiplicação entre B e A \n",
            "\n"
          ]
        },
        {
          "output_type": "execute_result",
          "data": {
            "text/plain": [
              "Matrix([\n",
              "[39,  -6, -9, 25, 24],\n",
              "[51, -14,  5, 26, 33],\n",
              "[30,   0, -5, 27, 37],\n",
              "[42,  -8,  5, 24, 40],\n",
              "[57, -28,  7, 33, 71]])"
            ],
            "text/latex": "$\\displaystyle \\left[\\begin{matrix}39 & -6 & -9 & 25 & 24\\\\51 & -14 & 5 & 26 & 33\\\\30 & 0 & -5 & 27 & 37\\\\42 & -8 & 5 & 24 & 40\\\\57 & -28 & 7 & 33 & 71\\end{matrix}\\right]$"
          },
          "metadata": {},
          "execution_count": 36
        }
      ]
    },
    {
      "cell_type": "markdown",
      "source": [
        "**i) Exibir o resultado de 𝐴 × 𝐶 e 𝐶 × 𝐴**"
      ],
      "metadata": {
        "id": "FI5KvwddGGtO"
      }
    },
    {
      "cell_type": "code",
      "source": [
        "#Condição para multiplicação de matrizes\n",
        "#Número de colunas da primeira matriz é igual ao número de linhas da segunda matriz\n",
        "#Colunas de A = 5\n",
        "#Linhass de C = 5\n",
        "\n",
        "#Cálculo da Matriz\n",
        "produtoAC = np.dot(a,c)\n",
        "\n",
        "print(\"Multiplicação entre A e C \\n\")\n",
        "\n",
        "Matrix(produtoAC)"
      ],
      "metadata": {
        "colab": {
          "base_uri": "https://localhost:8080/",
          "height": 153
        },
        "id": "ak5VGvQMrgmv",
        "outputId": "369ca0b4-f5bf-4348-a791-681981925bbd"
      },
      "execution_count": null,
      "outputs": [
        {
          "output_type": "stream",
          "name": "stdout",
          "text": [
            "Multiplicação entre A e C \n",
            "\n"
          ]
        },
        {
          "output_type": "execute_result",
          "data": {
            "text/plain": [
              "Matrix([\n",
              "[ 38,  30,  15],\n",
              "[-13,   0, -24],\n",
              "[ 15,  -7,  32],\n",
              "[-23, -42,  14],\n",
              "[ 46,  10,  41]])"
            ],
            "text/latex": "$\\displaystyle \\left[\\begin{matrix}38 & 30 & 15\\\\-13 & 0 & -24\\\\15 & -7 & 32\\\\-23 & -42 & 14\\\\46 & 10 & 41\\end{matrix}\\right]$"
          },
          "metadata": {},
          "execution_count": 34
        }
      ]
    },
    {
      "cell_type": "code",
      "source": [
        "#Cálculo da Matriz\n",
        "produtoAC = np.dot(c,a)\n",
        "print(\"Multiplicação entre c e a \\n\")\n",
        "Matrix(produtoAC)\n",
        "\n",
        "#Explicação do erro: Para obtenção do produto número de colunas da primeira matriz é igual ao número de linhas da segunda matriz\n",
        "#Colunas de C = 3\n",
        "#Linhas de C = 5\n",
        "#Como 5 != 3 o produto entre as matrizes não pode ser calculado"
      ],
      "metadata": {
        "colab": {
          "base_uri": "https://localhost:8080/",
          "height": 211
        },
        "id": "sPGMJc-PsI1P",
        "outputId": "da75c4ff-f934-49a4-d87d-210e2e0d6720"
      },
      "execution_count": null,
      "outputs": [
        {
          "output_type": "error",
          "ename": "ValueError",
          "evalue": "shapes (5,3) and (5,5) not aligned: 3 (dim 1) != 5 (dim 0)",
          "traceback": [
            "\u001b[0;31m---------------------------------------------------------------------------\u001b[0m",
            "\u001b[0;31mValueError\u001b[0m                                Traceback (most recent call last)",
            "\u001b[0;32m<ipython-input-33-61c44c92ccb3>\u001b[0m in \u001b[0;36m<cell line: 2>\u001b[0;34m()\u001b[0m\n\u001b[1;32m      1\u001b[0m \u001b[0;31m#Cálculo da Matriz\u001b[0m\u001b[0;34m\u001b[0m\u001b[0;34m\u001b[0m\u001b[0m\n\u001b[0;32m----> 2\u001b[0;31m \u001b[0mprodutoAC\u001b[0m \u001b[0;34m=\u001b[0m \u001b[0mnp\u001b[0m\u001b[0;34m.\u001b[0m\u001b[0mdot\u001b[0m\u001b[0;34m(\u001b[0m\u001b[0mc\u001b[0m\u001b[0;34m,\u001b[0m\u001b[0ma\u001b[0m\u001b[0;34m)\u001b[0m\u001b[0;34m\u001b[0m\u001b[0;34m\u001b[0m\u001b[0m\n\u001b[0m\u001b[1;32m      3\u001b[0m \u001b[0mprint\u001b[0m\u001b[0;34m(\u001b[0m\u001b[0;34m\"Multiplicação entre c e a \\n\"\u001b[0m\u001b[0;34m)\u001b[0m\u001b[0;34m\u001b[0m\u001b[0;34m\u001b[0m\u001b[0m\n\u001b[1;32m      4\u001b[0m \u001b[0mMatrix\u001b[0m\u001b[0;34m(\u001b[0m\u001b[0mprodutoAC\u001b[0m\u001b[0;34m)\u001b[0m\u001b[0;34m\u001b[0m\u001b[0;34m\u001b[0m\u001b[0m\n\u001b[1;32m      5\u001b[0m \u001b[0;34m\u001b[0m\u001b[0m\n",
            "\u001b[0;31mValueError\u001b[0m: shapes (5,3) and (5,5) not aligned: 3 (dim 1) != 5 (dim 0)"
          ]
        }
      ]
    },
    {
      "cell_type": "markdown",
      "source": [
        "**j) Exibir o que foi calculado no item (e) a partir do resultado da matriz 𝐵 × 𝐴 calculada\n",
        "no item (h)**"
      ],
      "metadata": {
        "id": "bFY8SRZsGLb0"
      }
    },
    {
      "cell_type": "code",
      "source": [
        "#Valor calculado no item e) aparece na matriz resultante de B X a\n",
        "\n",
        "print(f\"Resultado Item e) = {produtoE}\")\n",
        "print(\"\\n\")\n",
        "print(f\"Multiplicação entre B e A\\n {produtoBA} \")\n",
        "print(\"\\n\")\n",
        "#Logo o valor calculado no item e) aparece na seguinte posição\n",
        "print(f\"O Valor calculado está presente na linha 4, coluna 2: {produtoBA[3,1]}\")\n"
      ],
      "metadata": {
        "colab": {
          "base_uri": "https://localhost:8080/"
        },
        "id": "7IChynbKuYgD",
        "outputId": "b9367e73-1ba0-4cdb-df41-f2391a0ab375"
      },
      "execution_count": null,
      "outputs": [
        {
          "output_type": "stream",
          "name": "stdout",
          "text": [
            "Resultado Item e) = -8\n",
            "\n",
            "\n",
            "Multiplicação entre B e A\n",
            " [[ 39  -6  -9  25  24]\n",
            " [ 51 -14   5  26  33]\n",
            " [ 30   0  -5  27  37]\n",
            " [ 42  -8   5  24  40]\n",
            " [ 57 -28   7  33  71]] \n",
            "\n",
            "\n",
            "O Valor calculado está presente na linha 4, coluna 2: -8\n"
          ]
        }
      ]
    },
    {
      "cell_type": "markdown",
      "source": [
        "**k) Exibir os determinantes de 𝐴 e de 𝐵**"
      ],
      "metadata": {
        "id": "iAYJBAnoGR92"
      }
    },
    {
      "cell_type": "code",
      "source": [
        "#Metódo para calcular determinante\n",
        "detA = np.linalg.det(a)\n",
        "detB = np.linalg.det(b)\n",
        "\n",
        "print(f\"Determinante da matriz A: {detA}\")\n",
        "print(f\"Determinante da matriz B: {detB}\")"
      ],
      "metadata": {
        "colab": {
          "base_uri": "https://localhost:8080/"
        },
        "id": "LQIKBvlivZd-",
        "outputId": "a282c76a-c87a-4c1d-dc98-aa9db6055b18"
      },
      "execution_count": null,
      "outputs": [
        {
          "output_type": "stream",
          "name": "stdout",
          "text": [
            "Determinante da matriz A: 9180.000000000004\n",
            "Determinante da matriz B: 87.0\n"
          ]
        }
      ]
    },
    {
      "cell_type": "markdown",
      "source": [
        "**l) Calcule as matrizes inversas de 𝐴, 𝐵 e 𝐶**"
      ],
      "metadata": {
        "id": "F5gQ-CjxGX-M"
      }
    },
    {
      "cell_type": "code",
      "source": [
        "#Metódo Numpy para calcular a inversa da Matriz A\n",
        "invA = np.linalg.inv(a)\n",
        "print(\"Matrix inversa de A: \\n\")\n",
        "Matrix(invA)"
      ],
      "metadata": {
        "colab": {
          "base_uri": "https://localhost:8080/",
          "height": 153
        },
        "id": "JjzQyusPvxqE",
        "outputId": "ad7ba116-d213-46dd-94c6-c0247d871bae"
      },
      "execution_count": null,
      "outputs": [
        {
          "output_type": "stream",
          "name": "stdout",
          "text": [
            "Matrix inversa de A: \n",
            "\n"
          ]
        },
        {
          "output_type": "execute_result",
          "data": {
            "text/plain": [
              "Matrix([\n",
              "[  -0.148583877995643,  0.108061002178649,  0.236601307189543,  -0.105882352941177, 0.0666666666666667],\n",
              "[  -0.108496732026144,  0.101633986928105, 0.0803921568627451,  -0.114705882352941,                0.1],\n",
              "[   0.189542483660131, -0.228758169934641, -0.254901960784314,  0.0588235294117647,                0.0],\n",
              "[   0.320261437908497, -0.369281045751634, -0.568627450980392,   0.323529411764706,                0.0],\n",
              "[-0.00653594771241829,   0.23202614379085,  0.215686274509804, -0.0882352941176471,                0.0]])"
            ],
            "text/latex": "$\\displaystyle \\left[\\begin{matrix}-0.148583877995643 & 0.108061002178649 & 0.236601307189543 & -0.105882352941177 & 0.0666666666666667\\\\-0.108496732026144 & 0.101633986928105 & 0.0803921568627451 & -0.114705882352941 & 0.1\\\\0.189542483660131 & -0.228758169934641 & -0.254901960784314 & 0.0588235294117647 & 0.0\\\\0.320261437908497 & -0.369281045751634 & -0.568627450980392 & 0.323529411764706 & 0.0\\\\-0.00653594771241829 & 0.23202614379085 & 0.215686274509804 & -0.0882352941176471 & 0.0\\end{matrix}\\right]$"
          },
          "metadata": {},
          "execution_count": 63
        }
      ]
    },
    {
      "cell_type": "code",
      "source": [
        "invB = np.linalg.inv(b)\n",
        "print(\"Matrix inversa de B: \\n\")\n",
        "Matrix(invB)"
      ],
      "metadata": {
        "id": "8DdKRwE2FkYg",
        "colab": {
          "base_uri": "https://localhost:8080/",
          "height": 153
        },
        "outputId": "e04a1574-73c6-4a58-9ed2-196bde671718"
      },
      "execution_count": null,
      "outputs": [
        {
          "output_type": "stream",
          "name": "stdout",
          "text": [
            "Matrix inversa de B: \n",
            "\n"
          ]
        },
        {
          "output_type": "execute_result",
          "data": {
            "text/plain": [
              "Matrix([\n",
              "[-0.448275862068966,  0.275862068965517,  0.137931034482759, 0.0229885057471266, 0.0229885057471264],\n",
              "[ 0.103448275862069, -0.448275862068966,  0.275862068965517, 0.0459770114942528, 0.0459770114942529],\n",
              "[ 0.206896551724138,  0.103448275862069, -0.448275862068966, 0.0919540229885057, 0.0919540229885058],\n",
              "[ 0.413793103448276,  0.206896551724138,  0.103448275862069, -0.816091954022989,  0.183908045977012],\n",
              "[               0.0,                0.0,                0.0,  0.666666666666667, -0.333333333333333]])"
            ],
            "text/latex": "$\\displaystyle \\left[\\begin{matrix}-0.448275862068966 & 0.275862068965517 & 0.137931034482759 & 0.0229885057471266 & 0.0229885057471264\\\\0.103448275862069 & -0.448275862068966 & 0.275862068965517 & 0.0459770114942528 & 0.0459770114942529\\\\0.206896551724138 & 0.103448275862069 & -0.448275862068966 & 0.0919540229885057 & 0.0919540229885058\\\\0.413793103448276 & 0.206896551724138 & 0.103448275862069 & -0.816091954022989 & 0.183908045977012\\\\0.0 & 0.0 & 0.0 & 0.666666666666667 & -0.333333333333333\\end{matrix}\\right]$"
          },
          "metadata": {},
          "execution_count": 65
        }
      ]
    },
    {
      "cell_type": "code",
      "source": [
        "#Para calcular a inversa da matriz a matriz deve ser quadrada\n",
        "#A Matriz C não é quadrada pois tem dimensões 5X3\n",
        "#Assim a inversa não pode ser calculada\n",
        "\n",
        "#Metódo Numpy para calcular inversa\n",
        "invC = np.linalg.inv(c)\n",
        "print(\"Matrix inversa de C: \\n\")\n",
        "Matrix(invC)\n"
      ],
      "metadata": {
        "id": "7hECHwugFviu",
        "colab": {
          "base_uri": "https://localhost:8080/",
          "height": 356
        },
        "outputId": "484c7d31-d922-49b3-c2ed-52b21efe0479"
      },
      "execution_count": null,
      "outputs": [
        {
          "output_type": "error",
          "ename": "LinAlgError",
          "evalue": "Last 2 dimensions of the array must be square",
          "traceback": [
            "\u001b[0;31m---------------------------------------------------------------------------\u001b[0m",
            "\u001b[0;31mLinAlgError\u001b[0m                               Traceback (most recent call last)",
            "\u001b[0;32m<ipython-input-64-648e6f2f4696>\u001b[0m in \u001b[0;36m<cell line: 6>\u001b[0;34m()\u001b[0m\n\u001b[1;32m      4\u001b[0m \u001b[0;34m\u001b[0m\u001b[0m\n\u001b[1;32m      5\u001b[0m \u001b[0;31m#Metódo Numpy para calcular inversa\u001b[0m\u001b[0;34m\u001b[0m\u001b[0;34m\u001b[0m\u001b[0m\n\u001b[0;32m----> 6\u001b[0;31m \u001b[0minvC\u001b[0m \u001b[0;34m=\u001b[0m \u001b[0mnp\u001b[0m\u001b[0;34m.\u001b[0m\u001b[0mlinalg\u001b[0m\u001b[0;34m.\u001b[0m\u001b[0minv\u001b[0m\u001b[0;34m(\u001b[0m\u001b[0mc\u001b[0m\u001b[0;34m)\u001b[0m\u001b[0;34m\u001b[0m\u001b[0;34m\u001b[0m\u001b[0m\n\u001b[0m\u001b[1;32m      7\u001b[0m \u001b[0mprint\u001b[0m\u001b[0;34m(\u001b[0m\u001b[0;34m\"Matrix inversa de C: \\n\"\u001b[0m\u001b[0;34m)\u001b[0m\u001b[0;34m\u001b[0m\u001b[0;34m\u001b[0m\u001b[0m\n\u001b[1;32m      8\u001b[0m \u001b[0mMatrix\u001b[0m\u001b[0;34m(\u001b[0m\u001b[0minvC\u001b[0m\u001b[0;34m)\u001b[0m\u001b[0;34m\u001b[0m\u001b[0;34m\u001b[0m\u001b[0m\n",
            "\u001b[0;32m/usr/local/lib/python3.10/dist-packages/numpy/linalg/linalg.py\u001b[0m in \u001b[0;36minv\u001b[0;34m(a)\u001b[0m\n\u001b[1;32m    554\u001b[0m     \u001b[0ma\u001b[0m\u001b[0;34m,\u001b[0m \u001b[0mwrap\u001b[0m \u001b[0;34m=\u001b[0m \u001b[0m_makearray\u001b[0m\u001b[0;34m(\u001b[0m\u001b[0ma\u001b[0m\u001b[0;34m)\u001b[0m\u001b[0;34m\u001b[0m\u001b[0;34m\u001b[0m\u001b[0m\n\u001b[1;32m    555\u001b[0m     \u001b[0m_assert_stacked_2d\u001b[0m\u001b[0;34m(\u001b[0m\u001b[0ma\u001b[0m\u001b[0;34m)\u001b[0m\u001b[0;34m\u001b[0m\u001b[0;34m\u001b[0m\u001b[0m\n\u001b[0;32m--> 556\u001b[0;31m     \u001b[0m_assert_stacked_square\u001b[0m\u001b[0;34m(\u001b[0m\u001b[0ma\u001b[0m\u001b[0;34m)\u001b[0m\u001b[0;34m\u001b[0m\u001b[0;34m\u001b[0m\u001b[0m\n\u001b[0m\u001b[1;32m    557\u001b[0m     \u001b[0mt\u001b[0m\u001b[0;34m,\u001b[0m \u001b[0mresult_t\u001b[0m \u001b[0;34m=\u001b[0m \u001b[0m_commonType\u001b[0m\u001b[0;34m(\u001b[0m\u001b[0ma\u001b[0m\u001b[0;34m)\u001b[0m\u001b[0;34m\u001b[0m\u001b[0;34m\u001b[0m\u001b[0m\n\u001b[1;32m    558\u001b[0m \u001b[0;34m\u001b[0m\u001b[0m\n",
            "\u001b[0;32m/usr/local/lib/python3.10/dist-packages/numpy/linalg/linalg.py\u001b[0m in \u001b[0;36m_assert_stacked_square\u001b[0;34m(*arrays)\u001b[0m\n\u001b[1;32m    211\u001b[0m         \u001b[0mm\u001b[0m\u001b[0;34m,\u001b[0m \u001b[0mn\u001b[0m \u001b[0;34m=\u001b[0m \u001b[0ma\u001b[0m\u001b[0;34m.\u001b[0m\u001b[0mshape\u001b[0m\u001b[0;34m[\u001b[0m\u001b[0;34m-\u001b[0m\u001b[0;36m2\u001b[0m\u001b[0;34m:\u001b[0m\u001b[0;34m]\u001b[0m\u001b[0;34m\u001b[0m\u001b[0;34m\u001b[0m\u001b[0m\n\u001b[1;32m    212\u001b[0m         \u001b[0;32mif\u001b[0m \u001b[0mm\u001b[0m \u001b[0;34m!=\u001b[0m \u001b[0mn\u001b[0m\u001b[0;34m:\u001b[0m\u001b[0;34m\u001b[0m\u001b[0;34m\u001b[0m\u001b[0m\n\u001b[0;32m--> 213\u001b[0;31m             \u001b[0;32mraise\u001b[0m \u001b[0mLinAlgError\u001b[0m\u001b[0;34m(\u001b[0m\u001b[0;34m'Last 2 dimensions of the array must be square'\u001b[0m\u001b[0;34m)\u001b[0m\u001b[0;34m\u001b[0m\u001b[0;34m\u001b[0m\u001b[0m\n\u001b[0m\u001b[1;32m    214\u001b[0m \u001b[0;34m\u001b[0m\u001b[0m\n\u001b[1;32m    215\u001b[0m \u001b[0;32mdef\u001b[0m \u001b[0m_assert_finite\u001b[0m\u001b[0;34m(\u001b[0m\u001b[0;34m*\u001b[0m\u001b[0marrays\u001b[0m\u001b[0;34m)\u001b[0m\u001b[0;34m:\u001b[0m\u001b[0;34m\u001b[0m\u001b[0;34m\u001b[0m\u001b[0m\n",
            "\u001b[0;31mLinAlgError\u001b[0m: Last 2 dimensions of the array must be square"
          ]
        }
      ]
    },
    {
      "cell_type": "markdown",
      "source": [
        "Vamos tentar resolver, os seguintes sistemas de equações lineares:\n",
        "\n",
        "Sistema A\\begin{cases}\n",
        "3x_1 - 2x_2 + 5x_3 + x_4 + 6x_5 = 48 \\\\\n",
        "-6x_1 + 4x_2 - 4x_3 + x_4 + 3x_5 = 9 \\\\\n",
        "9x_1 - 6x_2 + 2x_3 + x_4 + 2x_5 = 17 \\\\\n",
        "6x_1 - 4x_2 - 6x_3 + 5x_4 + x_3 = 5 \\\\\n",
        "9x_1 + 4x_2 + x_3 + 5x_4 + 3x_5 = 55\n",
        "\\end{cases}\n",
        "\n",
        "\n",
        "Sistema B\\begin{cases}\n",
        "x_1 + 2x_2 + 2x_3 + 2x_4 + 2x_5 = 1 \\\\\n",
        "3x_1 + x_2 + 2x_3 + 2x_4 + 2x_5 = 2 \\\\\n",
        "3x_1 + 3x_2 + 3x_3 + 2x_4 + 2x_5 = 3 \\\\\n",
        "3x_1 + 3x_2 + 3x_3 + 4x_4 + 2x_5 = 4 \\\\\n",
        "6x_1 + 6x_2 + 6x_3 + 2x_4 + 4x_5 = 5\n",
        "\\end{cases}"
      ],
      "metadata": {
        "id": "HUkWbLhJdpgH"
      }
    },
    {
      "cell_type": "markdown",
      "source": [
        "Note que um sistema de equações lineares pode ser dado matricialmente como 𝐴𝑥 = 𝑏,\n",
        "em que 𝐴 é uma matriz quadrada 𝑛 × 𝑛 (matriz dos coeficientes), enquanto 𝑥 e 𝑏 são\n",
        "matrizes coluna 𝑛 × 1. Com base nessa informação, tente resolver os sistemas"
      ],
      "metadata": {
        "id": "R5xZ5HeafGJz"
      }
    },
    {
      "cell_type": "code",
      "source": [
        "#Sistema (a)\n",
        "sistemaA = Matrix([\n",
        "    [3, -2, 5, 1, 6],\n",
        "    [-6, 4, -4, 1, 3],\n",
        "    [9, -6, 2, 1, 2],\n",
        "    [6, -4, -6, 5, 1],\n",
        "    [9, 4, 1, 5, 3]\n",
        "])\n",
        "\n",
        "valoresA = Matrix([48, 9, 17, 5, 55])\n",
        "\n",
        "# Resolvendo os sistemas\n",
        "solucao_a = sistemaA.LUsolve(valoresA)\n",
        "\n",
        "solucao_a\n",
        "# resultado estilo:\n",
        "# x1\n",
        "# x2\n",
        "# x3\n",
        "# x4\n",
        "# x5"
      ],
      "metadata": {
        "id": "DttjujvffAKV",
        "colab": {
          "base_uri": "https://localhost:8080/",
          "height": 119
        },
        "outputId": "5f932772-6c25-46dd-c5a1-a8dded43d1d5"
      },
      "execution_count": null,
      "outputs": [
        {
          "output_type": "execute_result",
          "data": {
            "text/plain": [
              "Matrix([\n",
              "[1],\n",
              "[2],\n",
              "[3],\n",
              "[4],\n",
              "[5]])"
            ],
            "text/latex": "$\\displaystyle \\left[\\begin{matrix}1\\\\2\\\\3\\\\4\\\\5\\end{matrix}\\right]$"
          },
          "metadata": {},
          "execution_count": 12
        }
      ]
    },
    {
      "cell_type": "code",
      "source": [
        "#Sistema (b)\n",
        "A2 = Matrix([\n",
        "    [1, 2, 2, 2, 2],\n",
        "    [3, 1, 2, 2, 2],\n",
        "    [3, 3, 1, 2, 2],\n",
        "    [3, 3, 3, 1, 2],\n",
        "    [6, 6, 6, 2, 4]\n",
        "])\n",
        "\n",
        "b2 = Matrix([1, 2, 3, 4, 5])\n",
        "\n",
        "#Resolvendo os sistemas\n",
        "#Erro NonInvertibleMatrixError\n",
        "solucao_b = A2.LUsolve(b2)\n",
        "\n",
        "solucao_b"
      ],
      "metadata": {
        "colab": {
          "base_uri": "https://localhost:8080/",
          "height": 408
        },
        "id": "ND6vVQ5qL0Os",
        "outputId": "c0c14042-155c-44bc-90a5-2af394db5789"
      },
      "execution_count": null,
      "outputs": [
        {
          "output_type": "error",
          "ename": "NonInvertibleMatrixError",
          "evalue": "Matrix det == 0; not invertible.",
          "traceback": [
            "\u001b[0;31m---------------------------------------------------------------------------\u001b[0m",
            "\u001b[0;31mValueError\u001b[0m                                Traceback (most recent call last)",
            "\u001b[0;32m/usr/local/lib/python3.10/dist-packages/sympy/matrices/solvers.py\u001b[0m in \u001b[0;36m_LUsolve\u001b[0;34m(M, rhs, iszerofunc)\u001b[0m\n\u001b[1;32m    347\u001b[0m     \u001b[0;32mtry\u001b[0m\u001b[0;34m:\u001b[0m\u001b[0;34m\u001b[0m\u001b[0;34m\u001b[0m\u001b[0m\n\u001b[0;32m--> 348\u001b[0;31m         A, perm = M.LUdecomposition_Simple(\n\u001b[0m\u001b[1;32m    349\u001b[0m             iszerofunc=iszerofunc, rankcheck=True)\n",
            "\u001b[0;32m/usr/local/lib/python3.10/dist-packages/sympy/matrices/matrixbase.py\u001b[0m in \u001b[0;36mLUdecomposition_Simple\u001b[0;34m(self, iszerofunc, simpfunc, rankcheck)\u001b[0m\n\u001b[1;32m   5148\u001b[0m             rankcheck=False):\n\u001b[0;32m-> 5149\u001b[0;31m         return _LUdecomposition_Simple(self, iszerofunc=iszerofunc,\n\u001b[0m\u001b[1;32m   5150\u001b[0m                 simpfunc=simpfunc, rankcheck=rankcheck)\n",
            "\u001b[0;32m/usr/local/lib/python3.10/dist-packages/sympy/matrices/decompositions.py\u001b[0m in \u001b[0;36m_LUdecomposition_Simple\u001b[0;34m(M, iszerofunc, simpfunc, rankcheck)\u001b[0m\n\u001b[1;32m   1058\u001b[0m                 lu[Min(lu.rows, lu.cols) - 1, Min(lu.rows, lu.cols) - 1]):\n\u001b[0;32m-> 1059\u001b[0;31m             raise ValueError(\"Rank of matrix is strictly less than\"\n\u001b[0m\u001b[1;32m   1060\u001b[0m                                 \u001b[0;34m\" number of rows or columns.\"\u001b[0m\u001b[0;34m\u001b[0m\u001b[0;34m\u001b[0m\u001b[0m\n",
            "\u001b[0;31mValueError\u001b[0m: Rank of matrix is strictly less than number of rows or columns. Pass keyword argument rankcheck=False to compute the LU decomposition of this matrix.",
            "\nDuring handling of the above exception, another exception occurred:\n",
            "\u001b[0;31mNonInvertibleMatrixError\u001b[0m                  Traceback (most recent call last)",
            "\u001b[0;32m<ipython-input-13-d85933efa9de>\u001b[0m in \u001b[0;36m<cell line: 13>\u001b[0;34m()\u001b[0m\n\u001b[1;32m     11\u001b[0m \u001b[0;34m\u001b[0m\u001b[0m\n\u001b[1;32m     12\u001b[0m \u001b[0;31m# Resolvendo os sistemas\u001b[0m\u001b[0;34m\u001b[0m\u001b[0;34m\u001b[0m\u001b[0m\n\u001b[0;32m---> 13\u001b[0;31m \u001b[0msolucao_b\u001b[0m \u001b[0;34m=\u001b[0m \u001b[0mA2\u001b[0m\u001b[0;34m.\u001b[0m\u001b[0mLUsolve\u001b[0m\u001b[0;34m(\u001b[0m\u001b[0mb2\u001b[0m\u001b[0;34m)\u001b[0m\u001b[0;34m\u001b[0m\u001b[0;34m\u001b[0m\u001b[0m\n\u001b[0m\u001b[1;32m     14\u001b[0m \u001b[0;34m\u001b[0m\u001b[0m\n\u001b[1;32m     15\u001b[0m \u001b[0msolucao_b\u001b[0m\u001b[0;34m\u001b[0m\u001b[0;34m\u001b[0m\u001b[0m\n",
            "\u001b[0;32m/usr/local/lib/python3.10/dist-packages/sympy/matrices/matrixbase.py\u001b[0m in \u001b[0;36mLUsolve\u001b[0;34m(self, rhs, iszerofunc)\u001b[0m\n\u001b[1;32m   5178\u001b[0m \u001b[0;34m\u001b[0m\u001b[0m\n\u001b[1;32m   5179\u001b[0m     \u001b[0;32mdef\u001b[0m \u001b[0mLUsolve\u001b[0m\u001b[0;34m(\u001b[0m\u001b[0mself\u001b[0m\u001b[0;34m,\u001b[0m \u001b[0mrhs\u001b[0m\u001b[0;34m,\u001b[0m \u001b[0miszerofunc\u001b[0m\u001b[0;34m=\u001b[0m\u001b[0m_iszero\u001b[0m\u001b[0;34m)\u001b[0m\u001b[0;34m:\u001b[0m\u001b[0;34m\u001b[0m\u001b[0;34m\u001b[0m\u001b[0m\n\u001b[0;32m-> 5180\u001b[0;31m         \u001b[0;32mreturn\u001b[0m \u001b[0m_LUsolve\u001b[0m\u001b[0;34m(\u001b[0m\u001b[0mself\u001b[0m\u001b[0;34m,\u001b[0m \u001b[0mrhs\u001b[0m\u001b[0;34m,\u001b[0m \u001b[0miszerofunc\u001b[0m\u001b[0;34m=\u001b[0m\u001b[0miszerofunc\u001b[0m\u001b[0;34m)\u001b[0m\u001b[0;34m\u001b[0m\u001b[0;34m\u001b[0m\u001b[0m\n\u001b[0m\u001b[1;32m   5181\u001b[0m \u001b[0;34m\u001b[0m\u001b[0m\n\u001b[1;32m   5182\u001b[0m     \u001b[0;32mdef\u001b[0m \u001b[0mQRsolve\u001b[0m\u001b[0;34m(\u001b[0m\u001b[0mself\u001b[0m\u001b[0;34m,\u001b[0m \u001b[0mb\u001b[0m\u001b[0;34m)\u001b[0m\u001b[0;34m:\u001b[0m\u001b[0;34m\u001b[0m\u001b[0;34m\u001b[0m\u001b[0m\n",
            "\u001b[0;32m/usr/local/lib/python3.10/dist-packages/sympy/matrices/solvers.py\u001b[0m in \u001b[0;36m_LUsolve\u001b[0;34m(M, rhs, iszerofunc)\u001b[0m\n\u001b[1;32m    349\u001b[0m             iszerofunc=iszerofunc, rankcheck=True)\n\u001b[1;32m    350\u001b[0m     \u001b[0;32mexcept\u001b[0m \u001b[0mValueError\u001b[0m\u001b[0;34m:\u001b[0m\u001b[0;34m\u001b[0m\u001b[0;34m\u001b[0m\u001b[0m\n\u001b[0;32m--> 351\u001b[0;31m         \u001b[0;32mraise\u001b[0m \u001b[0mNonInvertibleMatrixError\u001b[0m\u001b[0;34m(\u001b[0m\u001b[0;34m\"Matrix det == 0; not invertible.\"\u001b[0m\u001b[0;34m)\u001b[0m\u001b[0;34m\u001b[0m\u001b[0;34m\u001b[0m\u001b[0m\n\u001b[0m\u001b[1;32m    352\u001b[0m \u001b[0;34m\u001b[0m\u001b[0m\n\u001b[1;32m    353\u001b[0m     \u001b[0mdps\u001b[0m \u001b[0;34m=\u001b[0m \u001b[0m_get_intermediate_simp\u001b[0m\u001b[0;34m(\u001b[0m\u001b[0;34m)\u001b[0m\u001b[0;34m\u001b[0m\u001b[0;34m\u001b[0m\u001b[0m\n",
            "\u001b[0;31mNonInvertibleMatrixError\u001b[0m: Matrix det == 0; not invertible."
          ]
        }
      ]
    },
    {
      "cell_type": "markdown",
      "source": [
        "Explicação do erro:\n",
        "\n",
        "```\n",
        "NonInvertibleMatrixError\n",
        "```\n",
        "O erro acima ocorre porque a matriz dos coeficientes de do sistemas tem determinante zero, o que significa que a matriz é singular. Isso indica que o sistema de equações pode não ter uma solução única, ou pode ser que o sistema tenha infinitas soluções.\n"
      ],
      "metadata": {
        "id": "ZbJ_RzAaMmdc"
      }
    }
  ]
}